{
 "cells": [
  {
   "cell_type": "code",
   "execution_count": 1,
   "metadata": {},
   "outputs": [],
   "source": [
    "import numpy as np\n",
    "import cv2 \n",
    "import matplotlib.pyplot as plt\n",
    "import winsound\n",
    "import time"
   ]
  },
  {
   "cell_type": "code",
   "execution_count": 2,
   "metadata": {},
   "outputs": [],
   "source": [
    "eye_cascade = cv2.CascadeClassifier('haarcascade_eye.xml')"
   ]
  },
  {
   "cell_type": "code",
   "execution_count": 3,
   "metadata": {},
   "outputs": [],
   "source": [
    "face_cascade = cv2.CascadeClassifier('haarcascade_frontalface_default.xml')"
   ]
  },
  {
   "cell_type": "code",
   "execution_count": 4,
   "metadata": {},
   "outputs": [],
   "source": [
    "def detect_face(img):\n",
    "    \n",
    "  \n",
    "    face_img = img.copy()\n",
    "  \n",
    "    face_rects = face_cascade.detectMultiScale(face_img) \n",
    "    eyes = eye_cascade.detectMultiScale(face_img)\n",
    "    \n",
    "    for (x,y,w,h) in face_rects: \n",
    "        cv2.rectangle(face_img, (x,y), (x+w,y+h), (0,255,0), 10)\n",
    "    for (a,b,c,d) in eyes: \n",
    "        cv2.rectangle(face_img, (a,b), (a+c,b+d), (255,255,255), 10)\n",
    "            \n",
    "    return face_img"
   ]
  },
  {
   "cell_type": "code",
   "execution_count": 5,
   "metadata": {},
   "outputs": [],
   "source": [
    "y=0\n",
    "def detect(img):\n",
    "    \n",
    "    global y\n",
    "  \n",
    "    face_img = img.copy()\n",
    "  \n",
    "    face_rects = face_cascade.detectMultiScale(face_img) \n",
    "    \n",
    "    for (x,y,w,h) in face_rects: \n",
    "        cv2.rectangle(face_img, (x,y), (x+w,y+h), (255,255,255), 10)\n",
    "            \n",
    "    return y"
   ]
  },
  {
   "cell_type": "code",
   "execution_count": 6,
   "metadata": {},
   "outputs": [],
   "source": [
    "def alarm():\n",
    "    \n",
    "    return winsound.PlaySound('C:/Users/anubh/Downloads/zapsplat_emergency_siren_alarm_serious_harsh_42790 (online-audio-converter.com).wav',winsound.SND_ASYNC)"
   ]
  },
  {
   "cell_type": "code",
   "execution_count": null,
   "metadata": {},
   "outputs": [],
   "source": [
    "cap = cv2.VideoCapture(0) \n",
    "\n",
    "while True: \n",
    "    \n",
    "    ret, frame = cap.read(0) \n",
    "    \n",
    "    frame = detect_face(frame)\n",
    "    \n",
    "    y= detect(frame)\n",
    "    \n",
    "   \n",
    "    if y>180:\n",
    "       \n",
    "        cv2.putText(frame,\"DROWSINESS ALERT\",(300,100),cv2.FONT_HERSHEY_SIMPLEX,0.7,(0,0,255),2)\n",
    "    else:\n",
    "         alarm()\n",
    "        \n",
    "            \n",
    " \n",
    "    cv2.imshow('Video Face Detection', frame)\n",
    "    \n",
    "    c = cv2.waitKey(1) \n",
    "    if c == 27: \n",
    "        break \n",
    "        \n",
    "cap.release() \n",
    "cv2.destroyAllWindows()"
   ]
  },
  {
   "cell_type": "code",
   "execution_count": null,
   "metadata": {},
   "outputs": [],
   "source": []
  },
  {
   "cell_type": "code",
   "execution_count": null,
   "metadata": {},
   "outputs": [],
   "source": []
  },
  {
   "cell_type": "code",
   "execution_count": null,
   "metadata": {},
   "outputs": [],
   "source": [
    "\n"
   ]
  },
  {
   "cell_type": "code",
   "execution_count": null,
   "metadata": {},
   "outputs": [],
   "source": []
  }
 ],
 "metadata": {
  "kernelspec": {
   "display_name": "Python 3",
   "language": "python",
   "name": "python3"
  },
  "language_info": {
   "codemirror_mode": {
    "name": "ipython",
    "version": 3
   },
   "file_extension": ".py",
   "mimetype": "text/x-python",
   "name": "python",
   "nbconvert_exporter": "python",
   "pygments_lexer": "ipython3",
   "version": "3.8.3"
  }
 },
 "nbformat": 4,
 "nbformat_minor": 4
}
